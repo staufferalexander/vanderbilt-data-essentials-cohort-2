{
 "cells": [
  {
   "cell_type": "markdown",
   "metadata": {},
   "source": [
    "# Importing Data On HealthCare Costs"
   ]
  },
  {
   "cell_type": "markdown",
   "metadata": {},
   "source": [
    "*Make sure to open terminal and cd to your working directory*"
   ]
  },
  {
   "cell_type": "code",
   "execution_count": 3,
   "metadata": {},
   "outputs": [],
   "source": [
    "import pandas as pd"
   ]
  },
  {
   "cell_type": "markdown",
   "metadata": {},
   "source": [
    "## Import heart attack data"
   ]
  },
  {
   "cell_type": "code",
   "execution_count": 5,
   "metadata": {
    "collapsed": false,
    "jupyter": {
     "outputs_hidden": false
    }
   },
   "outputs": [],
   "source": [
    "ha_costs_df = pd.read_csv('data/mmd_heart_attack_data.csv')"
   ]
  },
  {
   "cell_type": "markdown",
   "metadata": {},
   "source": [
    "*Examine the first 5 rows and the last five rows of the TN heart attack  data.*"
   ]
  },
  {
   "cell_type": "code",
   "execution_count": 6,
   "metadata": {
    "collapsed": false,
    "jupyter": {
     "outputs_hidden": false
    }
   },
   "outputs": [
    {
     "data": {
      "text/html": [
       "<div>\n",
       "<style scoped>\n",
       "    .dataframe tbody tr th:only-of-type {\n",
       "        vertical-align: middle;\n",
       "    }\n",
       "\n",
       "    .dataframe tbody tr th {\n",
       "        vertical-align: top;\n",
       "    }\n",
       "\n",
       "    .dataframe thead th {\n",
       "        text-align: right;\n",
       "    }\n",
       "</style>\n",
       "<table border=\"1\" class=\"dataframe\">\n",
       "  <thead>\n",
       "    <tr style=\"text-align: right;\">\n",
       "      <th></th>\n",
       "      <th>year</th>\n",
       "      <th>geography</th>\n",
       "      <th>measure</th>\n",
       "      <th>adjustment</th>\n",
       "      <th>analysis</th>\n",
       "      <th>domain</th>\n",
       "      <th>condition</th>\n",
       "      <th>primary_sex</th>\n",
       "      <th>primary_age</th>\n",
       "      <th>primary_dual</th>\n",
       "      <th>fips</th>\n",
       "      <th>county</th>\n",
       "      <th>state</th>\n",
       "      <th>urban</th>\n",
       "      <th>primary_race</th>\n",
       "      <th>primary_denominator</th>\n",
       "      <th>analysis_value</th>\n",
       "    </tr>\n",
       "  </thead>\n",
       "  <tbody>\n",
       "    <tr>\n",
       "      <th>0</th>\n",
       "      <td>2017</td>\n",
       "      <td>County</td>\n",
       "      <td>Average total cost</td>\n",
       "      <td>Unsmoothed actual</td>\n",
       "      <td>Base measure</td>\n",
       "      <td>Primary chronic conditions</td>\n",
       "      <td>Acute myocardial infarction</td>\n",
       "      <td>All</td>\n",
       "      <td>All</td>\n",
       "      <td>Dual &amp; non-dual</td>\n",
       "      <td>1001</td>\n",
       "      <td>Autauga County</td>\n",
       "      <td>ALABAMA</td>\n",
       "      <td>Urban</td>\n",
       "      <td>All</td>\n",
       "      <td>undefined</td>\n",
       "      <td>40470</td>\n",
       "    </tr>\n",
       "    <tr>\n",
       "      <th>1</th>\n",
       "      <td>2017</td>\n",
       "      <td>County</td>\n",
       "      <td>Average total cost</td>\n",
       "      <td>Unsmoothed actual</td>\n",
       "      <td>Base measure</td>\n",
       "      <td>Primary chronic conditions</td>\n",
       "      <td>Acute myocardial infarction</td>\n",
       "      <td>All</td>\n",
       "      <td>All</td>\n",
       "      <td>Dual &amp; non-dual</td>\n",
       "      <td>1003</td>\n",
       "      <td>Baldwin County</td>\n",
       "      <td>ALABAMA</td>\n",
       "      <td>Rural</td>\n",
       "      <td>All</td>\n",
       "      <td>undefined</td>\n",
       "      <td>36615</td>\n",
       "    </tr>\n",
       "    <tr>\n",
       "      <th>2</th>\n",
       "      <td>2017</td>\n",
       "      <td>County</td>\n",
       "      <td>Average total cost</td>\n",
       "      <td>Unsmoothed actual</td>\n",
       "      <td>Base measure</td>\n",
       "      <td>Primary chronic conditions</td>\n",
       "      <td>Acute myocardial infarction</td>\n",
       "      <td>All</td>\n",
       "      <td>All</td>\n",
       "      <td>Dual &amp; non-dual</td>\n",
       "      <td>1005</td>\n",
       "      <td>Barbour County</td>\n",
       "      <td>ALABAMA</td>\n",
       "      <td>Rural</td>\n",
       "      <td>All</td>\n",
       "      <td>undefined</td>\n",
       "      <td>46509</td>\n",
       "    </tr>\n",
       "    <tr>\n",
       "      <th>3</th>\n",
       "      <td>2017</td>\n",
       "      <td>County</td>\n",
       "      <td>Average total cost</td>\n",
       "      <td>Unsmoothed actual</td>\n",
       "      <td>Base measure</td>\n",
       "      <td>Primary chronic conditions</td>\n",
       "      <td>Acute myocardial infarction</td>\n",
       "      <td>All</td>\n",
       "      <td>All</td>\n",
       "      <td>Dual &amp; non-dual</td>\n",
       "      <td>1007</td>\n",
       "      <td>Bibb County</td>\n",
       "      <td>ALABAMA</td>\n",
       "      <td>Urban</td>\n",
       "      <td>All</td>\n",
       "      <td>undefined</td>\n",
       "      <td>42949</td>\n",
       "    </tr>\n",
       "    <tr>\n",
       "      <th>4</th>\n",
       "      <td>2017</td>\n",
       "      <td>County</td>\n",
       "      <td>Average total cost</td>\n",
       "      <td>Unsmoothed actual</td>\n",
       "      <td>Base measure</td>\n",
       "      <td>Primary chronic conditions</td>\n",
       "      <td>Acute myocardial infarction</td>\n",
       "      <td>All</td>\n",
       "      <td>All</td>\n",
       "      <td>Dual &amp; non-dual</td>\n",
       "      <td>1009</td>\n",
       "      <td>Blount County</td>\n",
       "      <td>ALABAMA</td>\n",
       "      <td>Urban</td>\n",
       "      <td>All</td>\n",
       "      <td>undefined</td>\n",
       "      <td>50067</td>\n",
       "    </tr>\n",
       "  </tbody>\n",
       "</table>\n",
       "</div>"
      ],
      "text/plain": [
       "   year geography             measure         adjustment      analysis  \\\n",
       "0  2017    County  Average total cost  Unsmoothed actual  Base measure   \n",
       "1  2017    County  Average total cost  Unsmoothed actual  Base measure   \n",
       "2  2017    County  Average total cost  Unsmoothed actual  Base measure   \n",
       "3  2017    County  Average total cost  Unsmoothed actual  Base measure   \n",
       "4  2017    County  Average total cost  Unsmoothed actual  Base measure   \n",
       "\n",
       "                       domain                    condition primary_sex  \\\n",
       "0  Primary chronic conditions  Acute myocardial infarction         All   \n",
       "1  Primary chronic conditions  Acute myocardial infarction         All   \n",
       "2  Primary chronic conditions  Acute myocardial infarction         All   \n",
       "3  Primary chronic conditions  Acute myocardial infarction         All   \n",
       "4  Primary chronic conditions  Acute myocardial infarction         All   \n",
       "\n",
       "  primary_age     primary_dual  fips          county    state  urban  \\\n",
       "0         All  Dual & non-dual  1001  Autauga County  ALABAMA  Urban   \n",
       "1         All  Dual & non-dual  1003  Baldwin County  ALABAMA  Rural   \n",
       "2         All  Dual & non-dual  1005  Barbour County  ALABAMA  Rural   \n",
       "3         All  Dual & non-dual  1007     Bibb County  ALABAMA  Urban   \n",
       "4         All  Dual & non-dual  1009   Blount County  ALABAMA  Urban   \n",
       "\n",
       "  primary_race primary_denominator  analysis_value  \n",
       "0          All           undefined           40470  \n",
       "1          All           undefined           36615  \n",
       "2          All           undefined           46509  \n",
       "3          All           undefined           42949  \n",
       "4          All           undefined           50067  "
      ]
     },
     "execution_count": 6,
     "metadata": {},
     "output_type": "execute_result"
    }
   ],
   "source": [
    "ha_costs_df.head(5)"
   ]
  },
  {
   "cell_type": "code",
   "execution_count": 7,
   "metadata": {
    "collapsed": false,
    "jupyter": {
     "outputs_hidden": false
    }
   },
   "outputs": [
    {
     "data": {
      "text/html": [
       "<div>\n",
       "<style scoped>\n",
       "    .dataframe tbody tr th:only-of-type {\n",
       "        vertical-align: middle;\n",
       "    }\n",
       "\n",
       "    .dataframe tbody tr th {\n",
       "        vertical-align: top;\n",
       "    }\n",
       "\n",
       "    .dataframe thead th {\n",
       "        text-align: right;\n",
       "    }\n",
       "</style>\n",
       "<table border=\"1\" class=\"dataframe\">\n",
       "  <thead>\n",
       "    <tr style=\"text-align: right;\">\n",
       "      <th></th>\n",
       "      <th>year</th>\n",
       "      <th>geography</th>\n",
       "      <th>measure</th>\n",
       "      <th>adjustment</th>\n",
       "      <th>analysis</th>\n",
       "      <th>domain</th>\n",
       "      <th>condition</th>\n",
       "      <th>primary_sex</th>\n",
       "      <th>primary_age</th>\n",
       "      <th>primary_dual</th>\n",
       "      <th>fips</th>\n",
       "      <th>county</th>\n",
       "      <th>state</th>\n",
       "      <th>urban</th>\n",
       "      <th>primary_race</th>\n",
       "      <th>primary_denominator</th>\n",
       "      <th>analysis_value</th>\n",
       "    </tr>\n",
       "  </thead>\n",
       "  <tbody>\n",
       "    <tr>\n",
       "      <th>2651</th>\n",
       "      <td>2017</td>\n",
       "      <td>County</td>\n",
       "      <td>Average total cost</td>\n",
       "      <td>Unsmoothed actual</td>\n",
       "      <td>Base measure</td>\n",
       "      <td>Primary chronic conditions</td>\n",
       "      <td>Acute myocardial infarction</td>\n",
       "      <td>All</td>\n",
       "      <td>All</td>\n",
       "      <td>Dual &amp; non-dual</td>\n",
       "      <td>72097</td>\n",
       "      <td>Mayaguez Municipio</td>\n",
       "      <td>PUERTO RICO</td>\n",
       "      <td>Urban</td>\n",
       "      <td>All</td>\n",
       "      <td>undefined</td>\n",
       "      <td>28128</td>\n",
       "    </tr>\n",
       "    <tr>\n",
       "      <th>2652</th>\n",
       "      <td>2017</td>\n",
       "      <td>County</td>\n",
       "      <td>Average total cost</td>\n",
       "      <td>Unsmoothed actual</td>\n",
       "      <td>Base measure</td>\n",
       "      <td>Primary chronic conditions</td>\n",
       "      <td>Acute myocardial infarction</td>\n",
       "      <td>All</td>\n",
       "      <td>All</td>\n",
       "      <td>Dual &amp; non-dual</td>\n",
       "      <td>72113</td>\n",
       "      <td>Ponce Municipio</td>\n",
       "      <td>PUERTO RICO</td>\n",
       "      <td>Urban</td>\n",
       "      <td>All</td>\n",
       "      <td>undefined</td>\n",
       "      <td>26403</td>\n",
       "    </tr>\n",
       "    <tr>\n",
       "      <th>2653</th>\n",
       "      <td>2017</td>\n",
       "      <td>County</td>\n",
       "      <td>Average total cost</td>\n",
       "      <td>Unsmoothed actual</td>\n",
       "      <td>Base measure</td>\n",
       "      <td>Primary chronic conditions</td>\n",
       "      <td>Acute myocardial infarction</td>\n",
       "      <td>All</td>\n",
       "      <td>All</td>\n",
       "      <td>Dual &amp; non-dual</td>\n",
       "      <td>72125</td>\n",
       "      <td>San German Municipio</td>\n",
       "      <td>PUERTO RICO</td>\n",
       "      <td>Urban</td>\n",
       "      <td>All</td>\n",
       "      <td>undefined</td>\n",
       "      <td>26398</td>\n",
       "    </tr>\n",
       "    <tr>\n",
       "      <th>2654</th>\n",
       "      <td>2017</td>\n",
       "      <td>County</td>\n",
       "      <td>Average total cost</td>\n",
       "      <td>Unsmoothed actual</td>\n",
       "      <td>Base measure</td>\n",
       "      <td>Primary chronic conditions</td>\n",
       "      <td>Acute myocardial infarction</td>\n",
       "      <td>All</td>\n",
       "      <td>All</td>\n",
       "      <td>Dual &amp; non-dual</td>\n",
       "      <td>72127</td>\n",
       "      <td>San Juan Municipio</td>\n",
       "      <td>PUERTO RICO</td>\n",
       "      <td>Urban</td>\n",
       "      <td>All</td>\n",
       "      <td>undefined</td>\n",
       "      <td>36599</td>\n",
       "    </tr>\n",
       "    <tr>\n",
       "      <th>2655</th>\n",
       "      <td>2017</td>\n",
       "      <td>County</td>\n",
       "      <td>Average total cost</td>\n",
       "      <td>Unsmoothed actual</td>\n",
       "      <td>Base measure</td>\n",
       "      <td>Primary chronic conditions</td>\n",
       "      <td>Acute myocardial infarction</td>\n",
       "      <td>All</td>\n",
       "      <td>All</td>\n",
       "      <td>Dual &amp; non-dual</td>\n",
       "      <td>72139</td>\n",
       "      <td>Trujillo Alto Municipio</td>\n",
       "      <td>PUERTO RICO</td>\n",
       "      <td>Urban</td>\n",
       "      <td>All</td>\n",
       "      <td>undefined</td>\n",
       "      <td>26676</td>\n",
       "    </tr>\n",
       "  </tbody>\n",
       "</table>\n",
       "</div>"
      ],
      "text/plain": [
       "      year geography             measure         adjustment      analysis  \\\n",
       "2651  2017    County  Average total cost  Unsmoothed actual  Base measure   \n",
       "2652  2017    County  Average total cost  Unsmoothed actual  Base measure   \n",
       "2653  2017    County  Average total cost  Unsmoothed actual  Base measure   \n",
       "2654  2017    County  Average total cost  Unsmoothed actual  Base measure   \n",
       "2655  2017    County  Average total cost  Unsmoothed actual  Base measure   \n",
       "\n",
       "                          domain                    condition primary_sex  \\\n",
       "2651  Primary chronic conditions  Acute myocardial infarction         All   \n",
       "2652  Primary chronic conditions  Acute myocardial infarction         All   \n",
       "2653  Primary chronic conditions  Acute myocardial infarction         All   \n",
       "2654  Primary chronic conditions  Acute myocardial infarction         All   \n",
       "2655  Primary chronic conditions  Acute myocardial infarction         All   \n",
       "\n",
       "     primary_age     primary_dual   fips                   county  \\\n",
       "2651         All  Dual & non-dual  72097       Mayaguez Municipio   \n",
       "2652         All  Dual & non-dual  72113          Ponce Municipio   \n",
       "2653         All  Dual & non-dual  72125     San German Municipio   \n",
       "2654         All  Dual & non-dual  72127       San Juan Municipio   \n",
       "2655         All  Dual & non-dual  72139  Trujillo Alto Municipio   \n",
       "\n",
       "            state  urban primary_race primary_denominator  analysis_value  \n",
       "2651  PUERTO RICO  Urban          All           undefined           28128  \n",
       "2652  PUERTO RICO  Urban          All           undefined           26403  \n",
       "2653  PUERTO RICO  Urban          All           undefined           26398  \n",
       "2654  PUERTO RICO  Urban          All           undefined           36599  \n",
       "2655  PUERTO RICO  Urban          All           undefined           26676  "
      ]
     },
     "execution_count": 7,
     "metadata": {},
     "output_type": "execute_result"
    }
   ],
   "source": [
    "ha_costs_df.tail(5)"
   ]
  },
  {
   "cell_type": "markdown",
   "metadata": {},
   "source": [
    "*Check the data types of each column.*"
   ]
  },
  {
   "cell_type": "code",
   "execution_count": 8,
   "metadata": {
    "collapsed": false,
    "jupyter": {
     "outputs_hidden": false
    }
   },
   "outputs": [
    {
     "name": "stdout",
     "output_type": "stream",
     "text": [
      "<class 'pandas.core.frame.DataFrame'>\n",
      "RangeIndex: 2656 entries, 0 to 2655\n",
      "Data columns (total 17 columns):\n",
      "year                   2656 non-null int64\n",
      "geography              2656 non-null object\n",
      "measure                2656 non-null object\n",
      "adjustment             2656 non-null object\n",
      "analysis               2656 non-null object\n",
      "domain                 2656 non-null object\n",
      "condition              2656 non-null object\n",
      "primary_sex            2656 non-null object\n",
      "primary_age            2656 non-null object\n",
      "primary_dual           2656 non-null object\n",
      "fips                   2656 non-null int64\n",
      "county                 2656 non-null object\n",
      "state                  2656 non-null object\n",
      "urban                  2656 non-null object\n",
      "primary_race           2656 non-null object\n",
      "primary_denominator    2656 non-null object\n",
      "analysis_value         2656 non-null int64\n",
      "dtypes: int64(3), object(14)\n",
      "memory usage: 352.8+ KB\n"
     ]
    }
   ],
   "source": [
    "ha_costs_df.info()"
   ]
  },
  {
   "cell_type": "markdown",
   "metadata": {},
   "source": [
    "### Keep only the rows where facilities are in TN"
   ]
  },
  {
   "cell_type": "code",
   "execution_count": 9,
   "metadata": {},
   "outputs": [],
   "source": [
    "TN_heart = ha_costs_df.query('state == \"TENNESSEE\"')"
   ]
  },
  {
   "cell_type": "markdown",
   "metadata": {},
   "source": [
    "*Print the dimensions of the data.*"
   ]
  },
  {
   "cell_type": "code",
   "execution_count": 10,
   "metadata": {
    "collapsed": false,
    "jupyter": {
     "outputs_hidden": false
    }
   },
   "outputs": [
    {
     "data": {
      "text/plain": [
       "(91, 17)"
      ]
     },
     "execution_count": 10,
     "metadata": {},
     "output_type": "execute_result"
    }
   ],
   "source": [
    "TN_heart.shape"
   ]
  },
  {
   "cell_type": "markdown",
   "metadata": {},
   "source": [
    "*See how many TN counties are represented in the heart attack costs data.*"
   ]
  },
  {
   "cell_type": "code",
   "execution_count": 11,
   "metadata": {
    "collapsed": false,
    "jupyter": {
     "outputs_hidden": false
    }
   },
   "outputs": [
    {
     "data": {
      "text/plain": [
       "91"
      ]
     },
     "execution_count": 11,
     "metadata": {},
     "output_type": "execute_result"
    }
   ],
   "source": [
    "TN_heart.county.nunique()"
   ]
  },
  {
   "cell_type": "markdown",
   "metadata": {},
   "source": [
    "*See how many counties are classified as Urban and how many as Rural.*"
   ]
  },
  {
   "cell_type": "code",
   "execution_count": 12,
   "metadata": {
    "collapsed": false,
    "jupyter": {
     "outputs_hidden": false
    }
   },
   "outputs": [],
   "source": [
    "Urb_heart = TN_heart.query('urban ==\"Urban\"')"
   ]
  },
  {
   "cell_type": "code",
   "execution_count": 13,
   "metadata": {
    "collapsed": false,
    "jupyter": {
     "outputs_hidden": false
    }
   },
   "outputs": [
    {
     "data": {
      "text/plain": [
       "(38, 17)"
      ]
     },
     "execution_count": 13,
     "metadata": {},
     "output_type": "execute_result"
    }
   ],
   "source": [
    "Urb_heart.shape"
   ]
  },
  {
   "cell_type": "code",
   "execution_count": 14,
   "metadata": {},
   "outputs": [],
   "source": [
    "Rur_heart = TN_heart.query('urban ==\"Rural\"')"
   ]
  },
  {
   "cell_type": "code",
   "execution_count": 15,
   "metadata": {
    "collapsed": false,
    "jupyter": {
     "outputs_hidden": false
    }
   },
   "outputs": [
    {
     "data": {
      "text/plain": [
       "(53, 17)"
      ]
     },
     "execution_count": 15,
     "metadata": {},
     "output_type": "execute_result"
    }
   ],
   "source": [
    "Rur_heart.shape"
   ]
  },
  {
   "cell_type": "markdown",
   "metadata": {},
   "source": [
    "*Examine the distribution of costs.*"
   ]
  },
  {
   "cell_type": "code",
   "execution_count": 16,
   "metadata": {
    "collapsed": false,
    "jupyter": {
     "outputs_hidden": false
    }
   },
   "outputs": [
    {
     "data": {
      "text/html": [
       "<div>\n",
       "<style scoped>\n",
       "    .dataframe tbody tr th:only-of-type {\n",
       "        vertical-align: middle;\n",
       "    }\n",
       "\n",
       "    .dataframe tbody tr th {\n",
       "        vertical-align: top;\n",
       "    }\n",
       "\n",
       "    .dataframe thead th {\n",
       "        text-align: right;\n",
       "    }\n",
       "</style>\n",
       "<table border=\"1\" class=\"dataframe\">\n",
       "  <thead>\n",
       "    <tr style=\"text-align: right;\">\n",
       "      <th></th>\n",
       "      <th>year</th>\n",
       "      <th>fips</th>\n",
       "      <th>analysis_value</th>\n",
       "    </tr>\n",
       "  </thead>\n",
       "  <tbody>\n",
       "    <tr>\n",
       "      <th>count</th>\n",
       "      <td>91.0</td>\n",
       "      <td>91.000000</td>\n",
       "      <td>91.000000</td>\n",
       "    </tr>\n",
       "    <tr>\n",
       "      <th>mean</th>\n",
       "      <td>2017.0</td>\n",
       "      <td>47093.615385</td>\n",
       "      <td>45762.989011</td>\n",
       "    </tr>\n",
       "    <tr>\n",
       "      <th>std</th>\n",
       "      <td>0.0</td>\n",
       "      <td>55.338708</td>\n",
       "      <td>6574.670462</td>\n",
       "    </tr>\n",
       "    <tr>\n",
       "      <th>min</th>\n",
       "      <td>2017.0</td>\n",
       "      <td>47001.000000</td>\n",
       "      <td>30831.000000</td>\n",
       "    </tr>\n",
       "    <tr>\n",
       "      <th>25%</th>\n",
       "      <td>2017.0</td>\n",
       "      <td>47046.000000</td>\n",
       "      <td>41105.500000</td>\n",
       "    </tr>\n",
       "    <tr>\n",
       "      <th>50%</th>\n",
       "      <td>2017.0</td>\n",
       "      <td>47093.000000</td>\n",
       "      <td>45384.000000</td>\n",
       "    </tr>\n",
       "    <tr>\n",
       "      <th>75%</th>\n",
       "      <td>2017.0</td>\n",
       "      <td>47142.000000</td>\n",
       "      <td>49698.500000</td>\n",
       "    </tr>\n",
       "    <tr>\n",
       "      <th>max</th>\n",
       "      <td>2017.0</td>\n",
       "      <td>47189.000000</td>\n",
       "      <td>62641.000000</td>\n",
       "    </tr>\n",
       "  </tbody>\n",
       "</table>\n",
       "</div>"
      ],
      "text/plain": [
       "         year          fips  analysis_value\n",
       "count    91.0     91.000000       91.000000\n",
       "mean   2017.0  47093.615385    45762.989011\n",
       "std       0.0     55.338708     6574.670462\n",
       "min    2017.0  47001.000000    30831.000000\n",
       "25%    2017.0  47046.000000    41105.500000\n",
       "50%    2017.0  47093.000000    45384.000000\n",
       "75%    2017.0  47142.000000    49698.500000\n",
       "max    2017.0  47189.000000    62641.000000"
      ]
     },
     "execution_count": 16,
     "metadata": {},
     "output_type": "execute_result"
    }
   ],
   "source": [
    "TN_heart.describe()"
   ]
  },
  {
   "cell_type": "code",
   "execution_count": 17,
   "metadata": {
    "collapsed": false,
    "jupyter": {
     "outputs_hidden": false
    }
   },
   "outputs": [
    {
     "data": {
      "text/html": [
       "<div>\n",
       "<style scoped>\n",
       "    .dataframe tbody tr th:only-of-type {\n",
       "        vertical-align: middle;\n",
       "    }\n",
       "\n",
       "    .dataframe tbody tr th {\n",
       "        vertical-align: top;\n",
       "    }\n",
       "\n",
       "    .dataframe thead th {\n",
       "        text-align: right;\n",
       "    }\n",
       "</style>\n",
       "<table border=\"1\" class=\"dataframe\">\n",
       "  <thead>\n",
       "    <tr style=\"text-align: right;\">\n",
       "      <th></th>\n",
       "      <th>year</th>\n",
       "      <th>fips</th>\n",
       "      <th>analysis_value</th>\n",
       "    </tr>\n",
       "  </thead>\n",
       "  <tbody>\n",
       "    <tr>\n",
       "      <th>count</th>\n",
       "      <td>38.0</td>\n",
       "      <td>38.000000</td>\n",
       "      <td>38.000000</td>\n",
       "    </tr>\n",
       "    <tr>\n",
       "      <th>mean</th>\n",
       "      <td>2017.0</td>\n",
       "      <td>47103.789474</td>\n",
       "      <td>45748.921053</td>\n",
       "    </tr>\n",
       "    <tr>\n",
       "      <th>std</th>\n",
       "      <td>0.0</td>\n",
       "      <td>60.904071</td>\n",
       "      <td>7109.788921</td>\n",
       "    </tr>\n",
       "    <tr>\n",
       "      <th>min</th>\n",
       "      <td>2017.0</td>\n",
       "      <td>47001.000000</td>\n",
       "      <td>32279.000000</td>\n",
       "    </tr>\n",
       "    <tr>\n",
       "      <th>25%</th>\n",
       "      <td>2017.0</td>\n",
       "      <td>47049.500000</td>\n",
       "      <td>40452.750000</td>\n",
       "    </tr>\n",
       "    <tr>\n",
       "      <th>50%</th>\n",
       "      <td>2017.0</td>\n",
       "      <td>47112.000000</td>\n",
       "      <td>45496.500000</td>\n",
       "    </tr>\n",
       "    <tr>\n",
       "      <th>75%</th>\n",
       "      <td>2017.0</td>\n",
       "      <td>47160.500000</td>\n",
       "      <td>50734.500000</td>\n",
       "    </tr>\n",
       "    <tr>\n",
       "      <th>max</th>\n",
       "      <td>2017.0</td>\n",
       "      <td>47189.000000</td>\n",
       "      <td>61541.000000</td>\n",
       "    </tr>\n",
       "  </tbody>\n",
       "</table>\n",
       "</div>"
      ],
      "text/plain": [
       "         year          fips  analysis_value\n",
       "count    38.0     38.000000       38.000000\n",
       "mean   2017.0  47103.789474    45748.921053\n",
       "std       0.0     60.904071     7109.788921\n",
       "min    2017.0  47001.000000    32279.000000\n",
       "25%    2017.0  47049.500000    40452.750000\n",
       "50%    2017.0  47112.000000    45496.500000\n",
       "75%    2017.0  47160.500000    50734.500000\n",
       "max    2017.0  47189.000000    61541.000000"
      ]
     },
     "execution_count": 17,
     "metadata": {},
     "output_type": "execute_result"
    }
   ],
   "source": [
    "Urb_heart.describe()"
   ]
  },
  {
   "cell_type": "code",
   "execution_count": 18,
   "metadata": {
    "collapsed": false,
    "jupyter": {
     "outputs_hidden": false
    }
   },
   "outputs": [
    {
     "data": {
      "text/html": [
       "<div>\n",
       "<style scoped>\n",
       "    .dataframe tbody tr th:only-of-type {\n",
       "        vertical-align: middle;\n",
       "    }\n",
       "\n",
       "    .dataframe tbody tr th {\n",
       "        vertical-align: top;\n",
       "    }\n",
       "\n",
       "    .dataframe thead th {\n",
       "        text-align: right;\n",
       "    }\n",
       "</style>\n",
       "<table border=\"1\" class=\"dataframe\">\n",
       "  <thead>\n",
       "    <tr style=\"text-align: right;\">\n",
       "      <th></th>\n",
       "      <th>year</th>\n",
       "      <th>fips</th>\n",
       "      <th>analysis_value</th>\n",
       "    </tr>\n",
       "  </thead>\n",
       "  <tbody>\n",
       "    <tr>\n",
       "      <th>count</th>\n",
       "      <td>53.0</td>\n",
       "      <td>53.000000</td>\n",
       "      <td>53.000000</td>\n",
       "    </tr>\n",
       "    <tr>\n",
       "      <th>mean</th>\n",
       "      <td>2017.0</td>\n",
       "      <td>47086.320755</td>\n",
       "      <td>45773.075472</td>\n",
       "    </tr>\n",
       "    <tr>\n",
       "      <th>std</th>\n",
       "      <td>0.0</td>\n",
       "      <td>50.309723</td>\n",
       "      <td>6232.724885</td>\n",
       "    </tr>\n",
       "    <tr>\n",
       "      <th>min</th>\n",
       "      <td>2017.0</td>\n",
       "      <td>47003.000000</td>\n",
       "      <td>30831.000000</td>\n",
       "    </tr>\n",
       "    <tr>\n",
       "      <th>25%</th>\n",
       "      <td>2017.0</td>\n",
       "      <td>47045.000000</td>\n",
       "      <td>41240.000000</td>\n",
       "    </tr>\n",
       "    <tr>\n",
       "      <th>50%</th>\n",
       "      <td>2017.0</td>\n",
       "      <td>47085.000000</td>\n",
       "      <td>45384.000000</td>\n",
       "    </tr>\n",
       "    <tr>\n",
       "      <th>75%</th>\n",
       "      <td>2017.0</td>\n",
       "      <td>47123.000000</td>\n",
       "      <td>48998.000000</td>\n",
       "    </tr>\n",
       "    <tr>\n",
       "      <th>max</th>\n",
       "      <td>2017.0</td>\n",
       "      <td>47185.000000</td>\n",
       "      <td>62641.000000</td>\n",
       "    </tr>\n",
       "  </tbody>\n",
       "</table>\n",
       "</div>"
      ],
      "text/plain": [
       "         year          fips  analysis_value\n",
       "count    53.0     53.000000       53.000000\n",
       "mean   2017.0  47086.320755    45773.075472\n",
       "std       0.0     50.309723     6232.724885\n",
       "min    2017.0  47003.000000    30831.000000\n",
       "25%    2017.0  47045.000000    41240.000000\n",
       "50%    2017.0  47085.000000    45384.000000\n",
       "75%    2017.0  47123.000000    48998.000000\n",
       "max    2017.0  47185.000000    62641.000000"
      ]
     },
     "execution_count": 18,
     "metadata": {},
     "output_type": "execute_result"
    }
   ],
   "source": [
    "Rur_heart.describe()"
   ]
  },
  {
   "cell_type": "markdown",
   "metadata": {},
   "source": [
    "**There does not seem to be a significant difference in heart attack costs between urban and rural counties at first glance.**"
   ]
  },
  {
   "cell_type": "markdown",
   "metadata": {},
   "source": [
    "## Import Cancer Data"
   ]
  },
  {
   "cell_type": "code",
   "execution_count": 19,
   "metadata": {
    "collapsed": false,
    "jupyter": {
     "outputs_hidden": false
    }
   },
   "outputs": [],
   "source": [
    "cancer_costs_df = pd.read_csv(\"data/mmd_cancer_data.csv\")"
   ]
  },
  {
   "cell_type": "markdown",
   "metadata": {
    "jupyter": {
     "outputs_hidden": false
    }
   },
   "source": [
    "*Look at the head and tail of the DataFrame*"
   ]
  },
  {
   "cell_type": "code",
   "execution_count": 20,
   "metadata": {},
   "outputs": [
    {
     "data": {
      "text/html": [
       "<div>\n",
       "<style scoped>\n",
       "    .dataframe tbody tr th:only-of-type {\n",
       "        vertical-align: middle;\n",
       "    }\n",
       "\n",
       "    .dataframe tbody tr th {\n",
       "        vertical-align: top;\n",
       "    }\n",
       "\n",
       "    .dataframe thead th {\n",
       "        text-align: right;\n",
       "    }\n",
       "</style>\n",
       "<table border=\"1\" class=\"dataframe\">\n",
       "  <thead>\n",
       "    <tr style=\"text-align: right;\">\n",
       "      <th></th>\n",
       "      <th>year</th>\n",
       "      <th>geography</th>\n",
       "      <th>measure</th>\n",
       "      <th>adjustment</th>\n",
       "      <th>analysis</th>\n",
       "      <th>domain</th>\n",
       "      <th>condition</th>\n",
       "      <th>primary_sex</th>\n",
       "      <th>primary_age</th>\n",
       "      <th>primary_dual</th>\n",
       "      <th>fips</th>\n",
       "      <th>county</th>\n",
       "      <th>state</th>\n",
       "      <th>urban</th>\n",
       "      <th>primary_race</th>\n",
       "      <th>primary_denominator</th>\n",
       "      <th>analysis_value</th>\n",
       "    </tr>\n",
       "  </thead>\n",
       "  <tbody>\n",
       "    <tr>\n",
       "      <th>0</th>\n",
       "      <td>2017</td>\n",
       "      <td>County</td>\n",
       "      <td>Average total cost</td>\n",
       "      <td>Unsmoothed actual</td>\n",
       "      <td>Base measure</td>\n",
       "      <td>Primary chronic conditions</td>\n",
       "      <td>Cancer, Colorectal, Breast, Prostate, Lung</td>\n",
       "      <td>All</td>\n",
       "      <td>All</td>\n",
       "      <td>Dual &amp; non-dual</td>\n",
       "      <td>1001</td>\n",
       "      <td>Autauga County</td>\n",
       "      <td>ALABAMA</td>\n",
       "      <td>Urban</td>\n",
       "      <td>All</td>\n",
       "      <td>undefined</td>\n",
       "      <td>19293</td>\n",
       "    </tr>\n",
       "    <tr>\n",
       "      <th>1</th>\n",
       "      <td>2017</td>\n",
       "      <td>County</td>\n",
       "      <td>Average total cost</td>\n",
       "      <td>Unsmoothed actual</td>\n",
       "      <td>Base measure</td>\n",
       "      <td>Primary chronic conditions</td>\n",
       "      <td>Cancer, Colorectal, Breast, Prostate, Lung</td>\n",
       "      <td>All</td>\n",
       "      <td>All</td>\n",
       "      <td>Dual &amp; non-dual</td>\n",
       "      <td>1003</td>\n",
       "      <td>Baldwin County</td>\n",
       "      <td>ALABAMA</td>\n",
       "      <td>Rural</td>\n",
       "      <td>All</td>\n",
       "      <td>undefined</td>\n",
       "      <td>17151</td>\n",
       "    </tr>\n",
       "    <tr>\n",
       "      <th>2</th>\n",
       "      <td>2017</td>\n",
       "      <td>County</td>\n",
       "      <td>Average total cost</td>\n",
       "      <td>Unsmoothed actual</td>\n",
       "      <td>Base measure</td>\n",
       "      <td>Primary chronic conditions</td>\n",
       "      <td>Cancer, Colorectal, Breast, Prostate, Lung</td>\n",
       "      <td>All</td>\n",
       "      <td>All</td>\n",
       "      <td>Dual &amp; non-dual</td>\n",
       "      <td>1005</td>\n",
       "      <td>Barbour County</td>\n",
       "      <td>ALABAMA</td>\n",
       "      <td>Rural</td>\n",
       "      <td>All</td>\n",
       "      <td>undefined</td>\n",
       "      <td>19469</td>\n",
       "    </tr>\n",
       "    <tr>\n",
       "      <th>3</th>\n",
       "      <td>2017</td>\n",
       "      <td>County</td>\n",
       "      <td>Average total cost</td>\n",
       "      <td>Unsmoothed actual</td>\n",
       "      <td>Base measure</td>\n",
       "      <td>Primary chronic conditions</td>\n",
       "      <td>Cancer, Colorectal, Breast, Prostate, Lung</td>\n",
       "      <td>All</td>\n",
       "      <td>All</td>\n",
       "      <td>Dual &amp; non-dual</td>\n",
       "      <td>1007</td>\n",
       "      <td>Bibb County</td>\n",
       "      <td>ALABAMA</td>\n",
       "      <td>Urban</td>\n",
       "      <td>All</td>\n",
       "      <td>undefined</td>\n",
       "      <td>17234</td>\n",
       "    </tr>\n",
       "    <tr>\n",
       "      <th>4</th>\n",
       "      <td>2017</td>\n",
       "      <td>County</td>\n",
       "      <td>Average total cost</td>\n",
       "      <td>Unsmoothed actual</td>\n",
       "      <td>Base measure</td>\n",
       "      <td>Primary chronic conditions</td>\n",
       "      <td>Cancer, Colorectal, Breast, Prostate, Lung</td>\n",
       "      <td>All</td>\n",
       "      <td>All</td>\n",
       "      <td>Dual &amp; non-dual</td>\n",
       "      <td>1009</td>\n",
       "      <td>Blount County</td>\n",
       "      <td>ALABAMA</td>\n",
       "      <td>Urban</td>\n",
       "      <td>All</td>\n",
       "      <td>undefined</td>\n",
       "      <td>20317</td>\n",
       "    </tr>\n",
       "  </tbody>\n",
       "</table>\n",
       "</div>"
      ],
      "text/plain": [
       "   year geography             measure         adjustment      analysis  \\\n",
       "0  2017    County  Average total cost  Unsmoothed actual  Base measure   \n",
       "1  2017    County  Average total cost  Unsmoothed actual  Base measure   \n",
       "2  2017    County  Average total cost  Unsmoothed actual  Base measure   \n",
       "3  2017    County  Average total cost  Unsmoothed actual  Base measure   \n",
       "4  2017    County  Average total cost  Unsmoothed actual  Base measure   \n",
       "\n",
       "                       domain                                   condition  \\\n",
       "0  Primary chronic conditions  Cancer, Colorectal, Breast, Prostate, Lung   \n",
       "1  Primary chronic conditions  Cancer, Colorectal, Breast, Prostate, Lung   \n",
       "2  Primary chronic conditions  Cancer, Colorectal, Breast, Prostate, Lung   \n",
       "3  Primary chronic conditions  Cancer, Colorectal, Breast, Prostate, Lung   \n",
       "4  Primary chronic conditions  Cancer, Colorectal, Breast, Prostate, Lung   \n",
       "\n",
       "  primary_sex primary_age     primary_dual  fips          county    state  \\\n",
       "0         All         All  Dual & non-dual  1001  Autauga County  ALABAMA   \n",
       "1         All         All  Dual & non-dual  1003  Baldwin County  ALABAMA   \n",
       "2         All         All  Dual & non-dual  1005  Barbour County  ALABAMA   \n",
       "3         All         All  Dual & non-dual  1007     Bibb County  ALABAMA   \n",
       "4         All         All  Dual & non-dual  1009   Blount County  ALABAMA   \n",
       "\n",
       "   urban primary_race primary_denominator  analysis_value  \n",
       "0  Urban          All           undefined           19293  \n",
       "1  Rural          All           undefined           17151  \n",
       "2  Rural          All           undefined           19469  \n",
       "3  Urban          All           undefined           17234  \n",
       "4  Urban          All           undefined           20317  "
      ]
     },
     "execution_count": 20,
     "metadata": {},
     "output_type": "execute_result"
    }
   ],
   "source": [
    "cancer_costs_df.head()"
   ]
  },
  {
   "cell_type": "code",
   "execution_count": 21,
   "metadata": {},
   "outputs": [
    {
     "data": {
      "text/html": [
       "<div>\n",
       "<style scoped>\n",
       "    .dataframe tbody tr th:only-of-type {\n",
       "        vertical-align: middle;\n",
       "    }\n",
       "\n",
       "    .dataframe tbody tr th {\n",
       "        vertical-align: top;\n",
       "    }\n",
       "\n",
       "    .dataframe thead th {\n",
       "        text-align: right;\n",
       "    }\n",
       "</style>\n",
       "<table border=\"1\" class=\"dataframe\">\n",
       "  <thead>\n",
       "    <tr style=\"text-align: right;\">\n",
       "      <th></th>\n",
       "      <th>year</th>\n",
       "      <th>geography</th>\n",
       "      <th>measure</th>\n",
       "      <th>adjustment</th>\n",
       "      <th>analysis</th>\n",
       "      <th>domain</th>\n",
       "      <th>condition</th>\n",
       "      <th>primary_sex</th>\n",
       "      <th>primary_age</th>\n",
       "      <th>primary_dual</th>\n",
       "      <th>fips</th>\n",
       "      <th>county</th>\n",
       "      <th>state</th>\n",
       "      <th>urban</th>\n",
       "      <th>primary_race</th>\n",
       "      <th>primary_denominator</th>\n",
       "      <th>analysis_value</th>\n",
       "    </tr>\n",
       "  </thead>\n",
       "  <tbody>\n",
       "    <tr>\n",
       "      <th>3160</th>\n",
       "      <td>2017</td>\n",
       "      <td>County</td>\n",
       "      <td>Average total cost</td>\n",
       "      <td>Unsmoothed actual</td>\n",
       "      <td>Base measure</td>\n",
       "      <td>Primary chronic conditions</td>\n",
       "      <td>Cancer, Colorectal, Breast, Prostate, Lung</td>\n",
       "      <td>All</td>\n",
       "      <td>All</td>\n",
       "      <td>Dual &amp; non-dual</td>\n",
       "      <td>72145</td>\n",
       "      <td>Vega Baja Municipio</td>\n",
       "      <td>PUERTO RICO</td>\n",
       "      <td>Urban</td>\n",
       "      <td>All</td>\n",
       "      <td>undefined</td>\n",
       "      <td>7364</td>\n",
       "    </tr>\n",
       "    <tr>\n",
       "      <th>3161</th>\n",
       "      <td>2017</td>\n",
       "      <td>County</td>\n",
       "      <td>Average total cost</td>\n",
       "      <td>Unsmoothed actual</td>\n",
       "      <td>Base measure</td>\n",
       "      <td>Primary chronic conditions</td>\n",
       "      <td>Cancer, Colorectal, Breast, Prostate, Lung</td>\n",
       "      <td>All</td>\n",
       "      <td>All</td>\n",
       "      <td>Dual &amp; non-dual</td>\n",
       "      <td>72147</td>\n",
       "      <td>Vieques Municipio</td>\n",
       "      <td>PUERTO RICO</td>\n",
       "      <td>Rural</td>\n",
       "      <td>All</td>\n",
       "      <td>undefined</td>\n",
       "      <td>9987</td>\n",
       "    </tr>\n",
       "    <tr>\n",
       "      <th>3162</th>\n",
       "      <td>2017</td>\n",
       "      <td>County</td>\n",
       "      <td>Average total cost</td>\n",
       "      <td>Unsmoothed actual</td>\n",
       "      <td>Base measure</td>\n",
       "      <td>Primary chronic conditions</td>\n",
       "      <td>Cancer, Colorectal, Breast, Prostate, Lung</td>\n",
       "      <td>All</td>\n",
       "      <td>All</td>\n",
       "      <td>Dual &amp; non-dual</td>\n",
       "      <td>72149</td>\n",
       "      <td>Villalba Municipio</td>\n",
       "      <td>PUERTO RICO</td>\n",
       "      <td>Urban</td>\n",
       "      <td>All</td>\n",
       "      <td>undefined</td>\n",
       "      <td>24127</td>\n",
       "    </tr>\n",
       "    <tr>\n",
       "      <th>3163</th>\n",
       "      <td>2017</td>\n",
       "      <td>County</td>\n",
       "      <td>Average total cost</td>\n",
       "      <td>Unsmoothed actual</td>\n",
       "      <td>Base measure</td>\n",
       "      <td>Primary chronic conditions</td>\n",
       "      <td>Cancer, Colorectal, Breast, Prostate, Lung</td>\n",
       "      <td>All</td>\n",
       "      <td>All</td>\n",
       "      <td>Dual &amp; non-dual</td>\n",
       "      <td>72151</td>\n",
       "      <td>Yabucoa Municipio</td>\n",
       "      <td>PUERTO RICO</td>\n",
       "      <td>Urban</td>\n",
       "      <td>All</td>\n",
       "      <td>undefined</td>\n",
       "      <td>8008</td>\n",
       "    </tr>\n",
       "    <tr>\n",
       "      <th>3164</th>\n",
       "      <td>2017</td>\n",
       "      <td>County</td>\n",
       "      <td>Average total cost</td>\n",
       "      <td>Unsmoothed actual</td>\n",
       "      <td>Base measure</td>\n",
       "      <td>Primary chronic conditions</td>\n",
       "      <td>Cancer, Colorectal, Breast, Prostate, Lung</td>\n",
       "      <td>All</td>\n",
       "      <td>All</td>\n",
       "      <td>Dual &amp; non-dual</td>\n",
       "      <td>72153</td>\n",
       "      <td>Yauco Municipio</td>\n",
       "      <td>PUERTO RICO</td>\n",
       "      <td>Urban</td>\n",
       "      <td>All</td>\n",
       "      <td>undefined</td>\n",
       "      <td>11171</td>\n",
       "    </tr>\n",
       "  </tbody>\n",
       "</table>\n",
       "</div>"
      ],
      "text/plain": [
       "      year geography             measure         adjustment      analysis  \\\n",
       "3160  2017    County  Average total cost  Unsmoothed actual  Base measure   \n",
       "3161  2017    County  Average total cost  Unsmoothed actual  Base measure   \n",
       "3162  2017    County  Average total cost  Unsmoothed actual  Base measure   \n",
       "3163  2017    County  Average total cost  Unsmoothed actual  Base measure   \n",
       "3164  2017    County  Average total cost  Unsmoothed actual  Base measure   \n",
       "\n",
       "                          domain                                   condition  \\\n",
       "3160  Primary chronic conditions  Cancer, Colorectal, Breast, Prostate, Lung   \n",
       "3161  Primary chronic conditions  Cancer, Colorectal, Breast, Prostate, Lung   \n",
       "3162  Primary chronic conditions  Cancer, Colorectal, Breast, Prostate, Lung   \n",
       "3163  Primary chronic conditions  Cancer, Colorectal, Breast, Prostate, Lung   \n",
       "3164  Primary chronic conditions  Cancer, Colorectal, Breast, Prostate, Lung   \n",
       "\n",
       "     primary_sex primary_age     primary_dual   fips               county  \\\n",
       "3160         All         All  Dual & non-dual  72145  Vega Baja Municipio   \n",
       "3161         All         All  Dual & non-dual  72147    Vieques Municipio   \n",
       "3162         All         All  Dual & non-dual  72149   Villalba Municipio   \n",
       "3163         All         All  Dual & non-dual  72151    Yabucoa Municipio   \n",
       "3164         All         All  Dual & non-dual  72153      Yauco Municipio   \n",
       "\n",
       "            state  urban primary_race primary_denominator  analysis_value  \n",
       "3160  PUERTO RICO  Urban          All           undefined            7364  \n",
       "3161  PUERTO RICO  Rural          All           undefined            9987  \n",
       "3162  PUERTO RICO  Urban          All           undefined           24127  \n",
       "3163  PUERTO RICO  Urban          All           undefined            8008  \n",
       "3164  PUERTO RICO  Urban          All           undefined           11171  "
      ]
     },
     "execution_count": 21,
     "metadata": {},
     "output_type": "execute_result"
    }
   ],
   "source": [
    "cancer_costs_df.tail()"
   ]
  },
  {
   "cell_type": "markdown",
   "metadata": {},
   "source": [
    "*Print the shape of the DataFrame.*"
   ]
  },
  {
   "cell_type": "code",
   "execution_count": 22,
   "metadata": {},
   "outputs": [
    {
     "data": {
      "text/plain": [
       "(3165, 17)"
      ]
     },
     "execution_count": 22,
     "metadata": {},
     "output_type": "execute_result"
    }
   ],
   "source": [
    "cancer_costs_df.shape"
   ]
  },
  {
   "cell_type": "markdown",
   "metadata": {},
   "source": [
    "### Keep only the rows where facilities are in TN."
   ]
  },
  {
   "cell_type": "code",
   "execution_count": 23,
   "metadata": {},
   "outputs": [],
   "source": [
    "TN_cancer = cancer_costs_df.query('state == \"TENNESSEE\"')"
   ]
  },
  {
   "cell_type": "markdown",
   "metadata": {},
   "source": [
    "*Print the dimensions of the data.*"
   ]
  },
  {
   "cell_type": "code",
   "execution_count": 24,
   "metadata": {
    "collapsed": false,
    "jupyter": {
     "outputs_hidden": false
    }
   },
   "outputs": [
    {
     "name": "stdout",
     "output_type": "stream",
     "text": [
      "<class 'pandas.core.frame.DataFrame'>\n",
      "Int64Index: 95 entries, 2396 to 2490\n",
      "Data columns (total 17 columns):\n",
      "year                   95 non-null int64\n",
      "geography              95 non-null object\n",
      "measure                95 non-null object\n",
      "adjustment             95 non-null object\n",
      "analysis               95 non-null object\n",
      "domain                 95 non-null object\n",
      "condition              95 non-null object\n",
      "primary_sex            95 non-null object\n",
      "primary_age            95 non-null object\n",
      "primary_dual           95 non-null object\n",
      "fips                   95 non-null int64\n",
      "county                 95 non-null object\n",
      "state                  95 non-null object\n",
      "urban                  95 non-null object\n",
      "primary_race           95 non-null object\n",
      "primary_denominator    95 non-null object\n",
      "analysis_value         95 non-null int64\n",
      "dtypes: int64(3), object(14)\n",
      "memory usage: 13.4+ KB\n"
     ]
    }
   ],
   "source": [
    "TN_cancer.info()"
   ]
  },
  {
   "cell_type": "markdown",
   "metadata": {},
   "source": [
    "*See how many TN counties are represented in the cancer costs data.*"
   ]
  },
  {
   "cell_type": "code",
   "execution_count": 25,
   "metadata": {},
   "outputs": [
    {
     "data": {
      "text/plain": [
       "95"
      ]
     },
     "execution_count": 25,
     "metadata": {},
     "output_type": "execute_result"
    }
   ],
   "source": [
    "TN_cancer.county.nunique()"
   ]
  },
  {
   "cell_type": "markdown",
   "metadata": {},
   "source": [
    "*Find which counties are missing from one of the datasets.*"
   ]
  },
  {
   "cell_type": "code",
   "execution_count": 26,
   "metadata": {
    "collapsed": false,
    "jupyter": {
     "outputs_hidden": false
    }
   },
   "outputs": [
    {
     "data": {
      "text/plain": [
       "['Moore County', 'Hancock County', 'Pickett County', 'Van Buren County']"
      ]
     },
     "execution_count": 26,
     "metadata": {},
     "output_type": "execute_result"
    }
   ],
   "source": [
    "list(set(TN_cancer.county)-set(TN_heart.county))"
   ]
  },
  {
   "cell_type": "code",
   "execution_count": 27,
   "metadata": {},
   "outputs": [
    {
     "data": {
      "text/plain": [
       "['Van Buren County', 'Pickett County', 'Moore County', 'Hancock County']"
      ]
     },
     "execution_count": 27,
     "metadata": {},
     "output_type": "execute_result"
    }
   ],
   "source": [
    "#The above method assumes that we aren't missing any counties from the cancer set that are in the heart set. To remedy this:\n",
    "\n",
    "cancer_counties = list(TN_cancer.county.unique())\n",
    "ha_counties = list(TN_heart.county.unique())\n",
    "\n",
    "list(set(cancer_counties).difference(ha_counties))"
   ]
  },
  {
   "cell_type": "markdown",
   "metadata": {},
   "source": [
    "*Examine the distribution in costs between urban and rural counties.*"
   ]
  },
  {
   "cell_type": "code",
   "execution_count": 28,
   "metadata": {},
   "outputs": [],
   "source": [
    "Urb_cancer = TN_cancer.query('urban == \"Urban\"')"
   ]
  },
  {
   "cell_type": "code",
   "execution_count": 29,
   "metadata": {},
   "outputs": [],
   "source": [
    "Rur_cancer = TN_cancer.query('urban == \"Rural\"')"
   ]
  },
  {
   "cell_type": "code",
   "execution_count": 30,
   "metadata": {
    "collapsed": false,
    "jupyter": {
     "outputs_hidden": false
    }
   },
   "outputs": [
    {
     "data": {
      "text/html": [
       "<div>\n",
       "<style scoped>\n",
       "    .dataframe tbody tr th:only-of-type {\n",
       "        vertical-align: middle;\n",
       "    }\n",
       "\n",
       "    .dataframe tbody tr th {\n",
       "        vertical-align: top;\n",
       "    }\n",
       "\n",
       "    .dataframe thead th {\n",
       "        text-align: right;\n",
       "    }\n",
       "</style>\n",
       "<table border=\"1\" class=\"dataframe\">\n",
       "  <thead>\n",
       "    <tr style=\"text-align: right;\">\n",
       "      <th></th>\n",
       "      <th>year</th>\n",
       "      <th>fips</th>\n",
       "      <th>analysis_value</th>\n",
       "    </tr>\n",
       "  </thead>\n",
       "  <tbody>\n",
       "    <tr>\n",
       "      <th>count</th>\n",
       "      <td>38.0</td>\n",
       "      <td>38.000000</td>\n",
       "      <td>38.000000</td>\n",
       "    </tr>\n",
       "    <tr>\n",
       "      <th>mean</th>\n",
       "      <td>2017.0</td>\n",
       "      <td>47103.789474</td>\n",
       "      <td>19638.605263</td>\n",
       "    </tr>\n",
       "    <tr>\n",
       "      <th>std</th>\n",
       "      <td>0.0</td>\n",
       "      <td>60.904071</td>\n",
       "      <td>2712.218435</td>\n",
       "    </tr>\n",
       "    <tr>\n",
       "      <th>min</th>\n",
       "      <td>2017.0</td>\n",
       "      <td>47001.000000</td>\n",
       "      <td>15454.000000</td>\n",
       "    </tr>\n",
       "    <tr>\n",
       "      <th>25%</th>\n",
       "      <td>2017.0</td>\n",
       "      <td>47049.500000</td>\n",
       "      <td>17674.750000</td>\n",
       "    </tr>\n",
       "    <tr>\n",
       "      <th>50%</th>\n",
       "      <td>2017.0</td>\n",
       "      <td>47112.000000</td>\n",
       "      <td>19203.500000</td>\n",
       "    </tr>\n",
       "    <tr>\n",
       "      <th>75%</th>\n",
       "      <td>2017.0</td>\n",
       "      <td>47160.500000</td>\n",
       "      <td>20556.750000</td>\n",
       "    </tr>\n",
       "    <tr>\n",
       "      <th>max</th>\n",
       "      <td>2017.0</td>\n",
       "      <td>47189.000000</td>\n",
       "      <td>27740.000000</td>\n",
       "    </tr>\n",
       "  </tbody>\n",
       "</table>\n",
       "</div>"
      ],
      "text/plain": [
       "         year          fips  analysis_value\n",
       "count    38.0     38.000000       38.000000\n",
       "mean   2017.0  47103.789474    19638.605263\n",
       "std       0.0     60.904071     2712.218435\n",
       "min    2017.0  47001.000000    15454.000000\n",
       "25%    2017.0  47049.500000    17674.750000\n",
       "50%    2017.0  47112.000000    19203.500000\n",
       "75%    2017.0  47160.500000    20556.750000\n",
       "max    2017.0  47189.000000    27740.000000"
      ]
     },
     "execution_count": 30,
     "metadata": {},
     "output_type": "execute_result"
    }
   ],
   "source": [
    "Urb_cancer.describe()"
   ]
  },
  {
   "cell_type": "code",
   "execution_count": 31,
   "metadata": {
    "collapsed": false,
    "jupyter": {
     "outputs_hidden": false
    }
   },
   "outputs": [
    {
     "data": {
      "text/html": [
       "<div>\n",
       "<style scoped>\n",
       "    .dataframe tbody tr th:only-of-type {\n",
       "        vertical-align: middle;\n",
       "    }\n",
       "\n",
       "    .dataframe tbody tr th {\n",
       "        vertical-align: top;\n",
       "    }\n",
       "\n",
       "    .dataframe thead th {\n",
       "        text-align: right;\n",
       "    }\n",
       "</style>\n",
       "<table border=\"1\" class=\"dataframe\">\n",
       "  <thead>\n",
       "    <tr style=\"text-align: right;\">\n",
       "      <th></th>\n",
       "      <th>year</th>\n",
       "      <th>fips</th>\n",
       "      <th>analysis_value</th>\n",
       "    </tr>\n",
       "  </thead>\n",
       "  <tbody>\n",
       "    <tr>\n",
       "      <th>count</th>\n",
       "      <td>57.0</td>\n",
       "      <td>57.000000</td>\n",
       "      <td>57.000000</td>\n",
       "    </tr>\n",
       "    <tr>\n",
       "      <th>mean</th>\n",
       "      <td>2017.0</td>\n",
       "      <td>47089.140351</td>\n",
       "      <td>19837.421053</td>\n",
       "    </tr>\n",
       "    <tr>\n",
       "      <th>std</th>\n",
       "      <td>0.0</td>\n",
       "      <td>50.642810</td>\n",
       "      <td>2255.416100</td>\n",
       "    </tr>\n",
       "    <tr>\n",
       "      <th>min</th>\n",
       "      <td>2017.0</td>\n",
       "      <td>47003.000000</td>\n",
       "      <td>15531.000000</td>\n",
       "    </tr>\n",
       "    <tr>\n",
       "      <th>25%</th>\n",
       "      <td>2017.0</td>\n",
       "      <td>47049.000000</td>\n",
       "      <td>18328.000000</td>\n",
       "    </tr>\n",
       "    <tr>\n",
       "      <th>50%</th>\n",
       "      <td>2017.0</td>\n",
       "      <td>47087.000000</td>\n",
       "      <td>19633.000000</td>\n",
       "    </tr>\n",
       "    <tr>\n",
       "      <th>75%</th>\n",
       "      <td>2017.0</td>\n",
       "      <td>47129.000000</td>\n",
       "      <td>21315.000000</td>\n",
       "    </tr>\n",
       "    <tr>\n",
       "      <th>max</th>\n",
       "      <td>2017.0</td>\n",
       "      <td>47185.000000</td>\n",
       "      <td>25909.000000</td>\n",
       "    </tr>\n",
       "  </tbody>\n",
       "</table>\n",
       "</div>"
      ],
      "text/plain": [
       "         year          fips  analysis_value\n",
       "count    57.0     57.000000       57.000000\n",
       "mean   2017.0  47089.140351    19837.421053\n",
       "std       0.0     50.642810     2255.416100\n",
       "min    2017.0  47003.000000    15531.000000\n",
       "25%    2017.0  47049.000000    18328.000000\n",
       "50%    2017.0  47087.000000    19633.000000\n",
       "75%    2017.0  47129.000000    21315.000000\n",
       "max    2017.0  47185.000000    25909.000000"
      ]
     },
     "execution_count": 31,
     "metadata": {},
     "output_type": "execute_result"
    }
   ],
   "source": [
    "Rur_cancer.describe()"
   ]
  },
  {
   "cell_type": "code",
   "execution_count": 32,
   "metadata": {
    "collapsed": false,
    "jupyter": {
     "outputs_hidden": false
    }
   },
   "outputs": [
    {
     "data": {
      "text/html": [
       "<div>\n",
       "<style scoped>\n",
       "    .dataframe tbody tr th:only-of-type {\n",
       "        vertical-align: middle;\n",
       "    }\n",
       "\n",
       "    .dataframe tbody tr th {\n",
       "        vertical-align: top;\n",
       "    }\n",
       "\n",
       "    .dataframe thead th {\n",
       "        text-align: right;\n",
       "    }\n",
       "</style>\n",
       "<table border=\"1\" class=\"dataframe\">\n",
       "  <thead>\n",
       "    <tr style=\"text-align: right;\">\n",
       "      <th></th>\n",
       "      <th>year</th>\n",
       "      <th>fips</th>\n",
       "      <th>analysis_value</th>\n",
       "    </tr>\n",
       "  </thead>\n",
       "  <tbody>\n",
       "    <tr>\n",
       "      <th>count</th>\n",
       "      <td>95.0</td>\n",
       "      <td>95.000000</td>\n",
       "      <td>95.000000</td>\n",
       "    </tr>\n",
       "    <tr>\n",
       "      <th>mean</th>\n",
       "      <td>2017.0</td>\n",
       "      <td>47095.000000</td>\n",
       "      <td>19757.894737</td>\n",
       "    </tr>\n",
       "    <tr>\n",
       "      <th>std</th>\n",
       "      <td>0.0</td>\n",
       "      <td>55.136195</td>\n",
       "      <td>2436.304533</td>\n",
       "    </tr>\n",
       "    <tr>\n",
       "      <th>min</th>\n",
       "      <td>2017.0</td>\n",
       "      <td>47001.000000</td>\n",
       "      <td>15454.000000</td>\n",
       "    </tr>\n",
       "    <tr>\n",
       "      <th>25%</th>\n",
       "      <td>2017.0</td>\n",
       "      <td>47048.000000</td>\n",
       "      <td>18103.500000</td>\n",
       "    </tr>\n",
       "    <tr>\n",
       "      <th>50%</th>\n",
       "      <td>2017.0</td>\n",
       "      <td>47095.000000</td>\n",
       "      <td>19563.000000</td>\n",
       "    </tr>\n",
       "    <tr>\n",
       "      <th>75%</th>\n",
       "      <td>2017.0</td>\n",
       "      <td>47142.000000</td>\n",
       "      <td>21153.000000</td>\n",
       "    </tr>\n",
       "    <tr>\n",
       "      <th>max</th>\n",
       "      <td>2017.0</td>\n",
       "      <td>47189.000000</td>\n",
       "      <td>27740.000000</td>\n",
       "    </tr>\n",
       "  </tbody>\n",
       "</table>\n",
       "</div>"
      ],
      "text/plain": [
       "         year          fips  analysis_value\n",
       "count    95.0     95.000000       95.000000\n",
       "mean   2017.0  47095.000000    19757.894737\n",
       "std       0.0     55.136195     2436.304533\n",
       "min    2017.0  47001.000000    15454.000000\n",
       "25%    2017.0  47048.000000    18103.500000\n",
       "50%    2017.0  47095.000000    19563.000000\n",
       "75%    2017.0  47142.000000    21153.000000\n",
       "max    2017.0  47189.000000    27740.000000"
      ]
     },
     "execution_count": 32,
     "metadata": {},
     "output_type": "execute_result"
    }
   ],
   "source": [
    "TN_cancer.describe()"
   ]
  },
  {
   "cell_type": "markdown",
   "metadata": {},
   "source": [
    "**There does not seem to be a significant difference between cancer costs at first glance between rural and urban counties in TN.**"
   ]
  },
  {
   "cell_type": "markdown",
   "metadata": {},
   "source": [
    "## Import the IRS income data."
   ]
  },
  {
   "cell_type": "code",
   "execution_count": 33,
   "metadata": {},
   "outputs": [],
   "source": [
    "income_df = pd.read_csv(\"data/irs_county_2016.csv\")"
   ]
  },
  {
   "cell_type": "markdown",
   "metadata": {},
   "source": [
    "### Keep only the income data that pertains to TN."
   ]
  },
  {
   "cell_type": "code",
   "execution_count": 34,
   "metadata": {
    "collapsed": false,
    "jupyter": {
     "outputs_hidden": false
    }
   },
   "outputs": [],
   "source": [
    "TN_income = income_df.query('STATE == \"TN\"')"
   ]
  },
  {
   "cell_type": "markdown",
   "metadata": {
    "jupyter": {
     "outputs_hidden": false
    }
   },
   "source": [
    "*Look at the head and tail of the DataFrame.*"
   ]
  },
  {
   "cell_type": "code",
   "execution_count": 35,
   "metadata": {
    "collapsed": false,
    "jupyter": {
     "outputs_hidden": false
    }
   },
   "outputs": [
    {
     "data": {
      "text/html": [
       "<div>\n",
       "<style scoped>\n",
       "    .dataframe tbody tr th:only-of-type {\n",
       "        vertical-align: middle;\n",
       "    }\n",
       "\n",
       "    .dataframe tbody tr th {\n",
       "        vertical-align: top;\n",
       "    }\n",
       "\n",
       "    .dataframe thead th {\n",
       "        text-align: right;\n",
       "    }\n",
       "</style>\n",
       "<table border=\"1\" class=\"dataframe\">\n",
       "  <thead>\n",
       "    <tr style=\"text-align: right;\">\n",
       "      <th></th>\n",
       "      <th>STATEFIPS</th>\n",
       "      <th>STATE</th>\n",
       "      <th>COUNTYFIPS</th>\n",
       "      <th>COUNTYNAME</th>\n",
       "      <th>agi_stub</th>\n",
       "      <th>N1</th>\n",
       "      <th>mars1</th>\n",
       "      <th>MARS2</th>\n",
       "      <th>MARS4</th>\n",
       "      <th>PREP</th>\n",
       "      <th>...</th>\n",
       "      <th>N10300</th>\n",
       "      <th>A10300</th>\n",
       "      <th>N85530</th>\n",
       "      <th>A85530</th>\n",
       "      <th>N85300</th>\n",
       "      <th>A85300</th>\n",
       "      <th>N11901</th>\n",
       "      <th>A11901</th>\n",
       "      <th>N11902</th>\n",
       "      <th>A11902</th>\n",
       "    </tr>\n",
       "  </thead>\n",
       "  <tbody>\n",
       "    <tr>\n",
       "      <th>19752</th>\n",
       "      <td>47</td>\n",
       "      <td>TN</td>\n",
       "      <td>0</td>\n",
       "      <td>Tennessee</td>\n",
       "      <td>1</td>\n",
       "      <td>39580</td>\n",
       "      <td>22400</td>\n",
       "      <td>14440</td>\n",
       "      <td>980</td>\n",
       "      <td>25390</td>\n",
       "      <td>...</td>\n",
       "      <td>6760</td>\n",
       "      <td>17669</td>\n",
       "      <td>200</td>\n",
       "      <td>287</td>\n",
       "      <td>0</td>\n",
       "      <td>0</td>\n",
       "      <td>3970</td>\n",
       "      <td>7167</td>\n",
       "      <td>16170</td>\n",
       "      <td>59567</td>\n",
       "    </tr>\n",
       "    <tr>\n",
       "      <th>19753</th>\n",
       "      <td>47</td>\n",
       "      <td>TN</td>\n",
       "      <td>0</td>\n",
       "      <td>Tennessee</td>\n",
       "      <td>2</td>\n",
       "      <td>439770</td>\n",
       "      <td>345410</td>\n",
       "      <td>39920</td>\n",
       "      <td>49300</td>\n",
       "      <td>188490</td>\n",
       "      <td>...</td>\n",
       "      <td>109250</td>\n",
       "      <td>62045</td>\n",
       "      <td>0</td>\n",
       "      <td>0</td>\n",
       "      <td>0</td>\n",
       "      <td>0</td>\n",
       "      <td>37380</td>\n",
       "      <td>18477</td>\n",
       "      <td>366150</td>\n",
       "      <td>366510</td>\n",
       "    </tr>\n",
       "    <tr>\n",
       "      <th>19754</th>\n",
       "      <td>47</td>\n",
       "      <td>TN</td>\n",
       "      <td>0</td>\n",
       "      <td>Tennessee</td>\n",
       "      <td>3</td>\n",
       "      <td>717430</td>\n",
       "      <td>398720</td>\n",
       "      <td>115040</td>\n",
       "      <td>189290</td>\n",
       "      <td>341750</td>\n",
       "      <td>...</td>\n",
       "      <td>449870</td>\n",
       "      <td>461060</td>\n",
       "      <td>0</td>\n",
       "      <td>0</td>\n",
       "      <td>0</td>\n",
       "      <td>0</td>\n",
       "      <td>63270</td>\n",
       "      <td>70761</td>\n",
       "      <td>635450</td>\n",
       "      <td>1870568</td>\n",
       "    </tr>\n",
       "    <tr>\n",
       "      <th>19755</th>\n",
       "      <td>47</td>\n",
       "      <td>TN</td>\n",
       "      <td>0</td>\n",
       "      <td>Tennessee</td>\n",
       "      <td>4</td>\n",
       "      <td>759340</td>\n",
       "      <td>355970</td>\n",
       "      <td>217710</td>\n",
       "      <td>159890</td>\n",
       "      <td>347430</td>\n",
       "      <td>...</td>\n",
       "      <td>629080</td>\n",
       "      <td>1669328</td>\n",
       "      <td>110</td>\n",
       "      <td>100</td>\n",
       "      <td>0</td>\n",
       "      <td>0</td>\n",
       "      <td>104290</td>\n",
       "      <td>176690</td>\n",
       "      <td>646420</td>\n",
       "      <td>1783890</td>\n",
       "    </tr>\n",
       "    <tr>\n",
       "      <th>19756</th>\n",
       "      <td>47</td>\n",
       "      <td>TN</td>\n",
       "      <td>0</td>\n",
       "      <td>Tennessee</td>\n",
       "      <td>5</td>\n",
       "      <td>396810</td>\n",
       "      <td>128390</td>\n",
       "      <td>215890</td>\n",
       "      <td>42240</td>\n",
       "      <td>198820</td>\n",
       "      <td>...</td>\n",
       "      <td>382580</td>\n",
       "      <td>2135577</td>\n",
       "      <td>30</td>\n",
       "      <td>29</td>\n",
       "      <td>0</td>\n",
       "      <td>0</td>\n",
       "      <td>87440</td>\n",
       "      <td>220372</td>\n",
       "      <td>302390</td>\n",
       "      <td>849648</td>\n",
       "    </tr>\n",
       "  </tbody>\n",
       "</table>\n",
       "<p>5 rows × 148 columns</p>\n",
       "</div>"
      ],
      "text/plain": [
       "       STATEFIPS STATE  COUNTYFIPS COUNTYNAME  agi_stub      N1   mars1  \\\n",
       "19752         47    TN           0  Tennessee         1   39580   22400   \n",
       "19753         47    TN           0  Tennessee         2  439770  345410   \n",
       "19754         47    TN           0  Tennessee         3  717430  398720   \n",
       "19755         47    TN           0  Tennessee         4  759340  355970   \n",
       "19756         47    TN           0  Tennessee         5  396810  128390   \n",
       "\n",
       "        MARS2   MARS4    PREP  ...  N10300   A10300  N85530  A85530  N85300  \\\n",
       "19752   14440     980   25390  ...    6760    17669     200     287       0   \n",
       "19753   39920   49300  188490  ...  109250    62045       0       0       0   \n",
       "19754  115040  189290  341750  ...  449870   461060       0       0       0   \n",
       "19755  217710  159890  347430  ...  629080  1669328     110     100       0   \n",
       "19756  215890   42240  198820  ...  382580  2135577      30      29       0   \n",
       "\n",
       "       A85300  N11901  A11901  N11902   A11902  \n",
       "19752       0    3970    7167   16170    59567  \n",
       "19753       0   37380   18477  366150   366510  \n",
       "19754       0   63270   70761  635450  1870568  \n",
       "19755       0  104290  176690  646420  1783890  \n",
       "19756       0   87440  220372  302390   849648  \n",
       "\n",
       "[5 rows x 148 columns]"
      ]
     },
     "execution_count": 35,
     "metadata": {},
     "output_type": "execute_result"
    }
   ],
   "source": [
    "TN_income.head()"
   ]
  },
  {
   "cell_type": "code",
   "execution_count": 36,
   "metadata": {
    "collapsed": false,
    "jupyter": {
     "outputs_hidden": false
    }
   },
   "outputs": [
    {
     "data": {
      "text/html": [
       "<div>\n",
       "<style scoped>\n",
       "    .dataframe tbody tr th:only-of-type {\n",
       "        vertical-align: middle;\n",
       "    }\n",
       "\n",
       "    .dataframe tbody tr th {\n",
       "        vertical-align: top;\n",
       "    }\n",
       "\n",
       "    .dataframe thead th {\n",
       "        text-align: right;\n",
       "    }\n",
       "</style>\n",
       "<table border=\"1\" class=\"dataframe\">\n",
       "  <thead>\n",
       "    <tr style=\"text-align: right;\">\n",
       "      <th></th>\n",
       "      <th>STATEFIPS</th>\n",
       "      <th>STATE</th>\n",
       "      <th>COUNTYFIPS</th>\n",
       "      <th>COUNTYNAME</th>\n",
       "      <th>agi_stub</th>\n",
       "      <th>N1</th>\n",
       "      <th>mars1</th>\n",
       "      <th>MARS2</th>\n",
       "      <th>MARS4</th>\n",
       "      <th>PREP</th>\n",
       "      <th>...</th>\n",
       "      <th>N10300</th>\n",
       "      <th>A10300</th>\n",
       "      <th>N85530</th>\n",
       "      <th>A85530</th>\n",
       "      <th>N85300</th>\n",
       "      <th>A85300</th>\n",
       "      <th>N11901</th>\n",
       "      <th>A11901</th>\n",
       "      <th>N11902</th>\n",
       "      <th>A11902</th>\n",
       "    </tr>\n",
       "  </thead>\n",
       "  <tbody>\n",
       "    <tr>\n",
       "      <th>20515</th>\n",
       "      <td>47</td>\n",
       "      <td>TN</td>\n",
       "      <td>189</td>\n",
       "      <td>Wilson County</td>\n",
       "      <td>4</td>\n",
       "      <td>14400</td>\n",
       "      <td>7130</td>\n",
       "      <td>4050</td>\n",
       "      <td>2610</td>\n",
       "      <td>6520</td>\n",
       "      <td>...</td>\n",
       "      <td>12340</td>\n",
       "      <td>34654</td>\n",
       "      <td>0</td>\n",
       "      <td>0</td>\n",
       "      <td>0</td>\n",
       "      <td>0</td>\n",
       "      <td>2090</td>\n",
       "      <td>4150</td>\n",
       "      <td>12140</td>\n",
       "      <td>31712</td>\n",
       "    </tr>\n",
       "    <tr>\n",
       "      <th>20516</th>\n",
       "      <td>47</td>\n",
       "      <td>TN</td>\n",
       "      <td>189</td>\n",
       "      <td>Wilson County</td>\n",
       "      <td>5</td>\n",
       "      <td>9330</td>\n",
       "      <td>2890</td>\n",
       "      <td>5160</td>\n",
       "      <td>960</td>\n",
       "      <td>4600</td>\n",
       "      <td>...</td>\n",
       "      <td>9010</td>\n",
       "      <td>50591</td>\n",
       "      <td>0</td>\n",
       "      <td>0</td>\n",
       "      <td>0</td>\n",
       "      <td>0</td>\n",
       "      <td>2080</td>\n",
       "      <td>5356</td>\n",
       "      <td>7100</td>\n",
       "      <td>19970</td>\n",
       "    </tr>\n",
       "    <tr>\n",
       "      <th>20517</th>\n",
       "      <td>47</td>\n",
       "      <td>TN</td>\n",
       "      <td>189</td>\n",
       "      <td>Wilson County</td>\n",
       "      <td>6</td>\n",
       "      <td>7160</td>\n",
       "      <td>1060</td>\n",
       "      <td>5630</td>\n",
       "      <td>380</td>\n",
       "      <td>3560</td>\n",
       "      <td>...</td>\n",
       "      <td>7110</td>\n",
       "      <td>61964</td>\n",
       "      <td>0</td>\n",
       "      <td>0</td>\n",
       "      <td>0</td>\n",
       "      <td>0</td>\n",
       "      <td>1710</td>\n",
       "      <td>5743</td>\n",
       "      <td>5290</td>\n",
       "      <td>17041</td>\n",
       "    </tr>\n",
       "    <tr>\n",
       "      <th>20518</th>\n",
       "      <td>47</td>\n",
       "      <td>TN</td>\n",
       "      <td>189</td>\n",
       "      <td>Wilson County</td>\n",
       "      <td>7</td>\n",
       "      <td>10350</td>\n",
       "      <td>780</td>\n",
       "      <td>9260</td>\n",
       "      <td>240</td>\n",
       "      <td>5330</td>\n",
       "      <td>...</td>\n",
       "      <td>10330</td>\n",
       "      <td>190229</td>\n",
       "      <td>60</td>\n",
       "      <td>13</td>\n",
       "      <td>0</td>\n",
       "      <td>0</td>\n",
       "      <td>3810</td>\n",
       "      <td>19921</td>\n",
       "      <td>6270</td>\n",
       "      <td>24591</td>\n",
       "    </tr>\n",
       "    <tr>\n",
       "      <th>20519</th>\n",
       "      <td>47</td>\n",
       "      <td>TN</td>\n",
       "      <td>189</td>\n",
       "      <td>Wilson County</td>\n",
       "      <td>8</td>\n",
       "      <td>2370</td>\n",
       "      <td>180</td>\n",
       "      <td>2130</td>\n",
       "      <td>50</td>\n",
       "      <td>1700</td>\n",
       "      <td>...</td>\n",
       "      <td>2370</td>\n",
       "      <td>230759</td>\n",
       "      <td>1160</td>\n",
       "      <td>1817</td>\n",
       "      <td>1080</td>\n",
       "      <td>3775</td>\n",
       "      <td>1260</td>\n",
       "      <td>39698</td>\n",
       "      <td>880</td>\n",
       "      <td>9411</td>\n",
       "    </tr>\n",
       "  </tbody>\n",
       "</table>\n",
       "<p>5 rows × 148 columns</p>\n",
       "</div>"
      ],
      "text/plain": [
       "       STATEFIPS STATE  COUNTYFIPS     COUNTYNAME  agi_stub     N1  mars1  \\\n",
       "20515         47    TN         189  Wilson County         4  14400   7130   \n",
       "20516         47    TN         189  Wilson County         5   9330   2890   \n",
       "20517         47    TN         189  Wilson County         6   7160   1060   \n",
       "20518         47    TN         189  Wilson County         7  10350    780   \n",
       "20519         47    TN         189  Wilson County         8   2370    180   \n",
       "\n",
       "       MARS2  MARS4  PREP  ...  N10300  A10300  N85530  A85530  N85300  \\\n",
       "20515   4050   2610  6520  ...   12340   34654       0       0       0   \n",
       "20516   5160    960  4600  ...    9010   50591       0       0       0   \n",
       "20517   5630    380  3560  ...    7110   61964       0       0       0   \n",
       "20518   9260    240  5330  ...   10330  190229      60      13       0   \n",
       "20519   2130     50  1700  ...    2370  230759    1160    1817    1080   \n",
       "\n",
       "       A85300  N11901  A11901  N11902  A11902  \n",
       "20515       0    2090    4150   12140   31712  \n",
       "20516       0    2080    5356    7100   19970  \n",
       "20517       0    1710    5743    5290   17041  \n",
       "20518       0    3810   19921    6270   24591  \n",
       "20519    3775    1260   39698     880    9411  \n",
       "\n",
       "[5 rows x 148 columns]"
      ]
     },
     "execution_count": 36,
     "metadata": {},
     "output_type": "execute_result"
    }
   ],
   "source": [
    "TN_income.tail()"
   ]
  },
  {
   "cell_type": "markdown",
   "metadata": {},
   "source": [
    "*Look at the shape of the DataFrame.*"
   ]
  },
  {
   "cell_type": "code",
   "execution_count": 37,
   "metadata": {
    "collapsed": false,
    "jupyter": {
     "outputs_hidden": false
    }
   },
   "outputs": [
    {
     "data": {
      "text/plain": [
       "(768, 148)"
      ]
     },
     "execution_count": 37,
     "metadata": {},
     "output_type": "execute_result"
    }
   ],
   "source": [
    "TN_income.shape"
   ]
  },
  {
   "cell_type": "markdown",
   "metadata": {},
   "source": [
    "*Keep only the following columns:  `['STATE', 'COUNTYNAME', 'agi_stub', 'N1', 'mars1', 'MARS2', 'MARS4', 'N2', 'NUMDEP', 'ELDERLY', 'A00100', 'N02650', 'A02650', 'N02300', 'A02300']`*"
   ]
  },
  {
   "cell_type": "code",
   "execution_count": 38,
   "metadata": {
    "collapsed": false,
    "jupyter": {
     "outputs_hidden": false
    }
   },
   "outputs": [],
   "source": [
    "TN_income_short = TN_income[['STATE', 'COUNTYNAME', 'agi_stub', 'N1', 'mars1', 'MARS2', 'MARS4', 'N2', 'NUMDEP', 'ELDERLY', 'A00100', 'N02650', 'A02650', 'N02300', 'A02300']]"
   ]
  },
  {
   "cell_type": "markdown",
   "metadata": {},
   "source": [
    "*Rename those columns: `['state', 'county', 'income_bucket', 'return_count', 'single_returns', 'joint_returns', 'head_of_house_returns', 'exemptions', 'dependents', 'elderly', 'agi', 'returns_with_total_inc','total_inc_amt', 'returns_with_unemployment', 'unemployment_comp']`*"
   ]
  },
  {
   "cell_type": "code",
   "execution_count": 39,
   "metadata": {
    "collapsed": false,
    "jupyter": {
     "outputs_hidden": false
    }
   },
   "outputs": [],
   "source": [
    "TN_income_short.columns = ['state', 'county', 'income_bucket', 'return_count', 'single_returns', 'joint_returns', 'head_of_house_returns', 'exemptions', 'dependents', 'elderly', 'agi', 'returns_with_total_inc','total_inc_amt', 'returns_with_unemployment', 'unemployment_comp']"
   ]
  },
  {
   "cell_type": "markdown",
   "metadata": {},
   "source": [
    "*Create `income_dict`, a dictionary that uses the numerical codes in the income bucket column as keys and the matching descriptions*"
   ]
  },
  {
   "cell_type": "code",
   "execution_count": 40,
   "metadata": {},
   "outputs": [
    {
     "data": {
      "text/plain": [
       "array([1, 2, 3, 4, 5, 6, 7, 8])"
      ]
     },
     "execution_count": 40,
     "metadata": {},
     "output_type": "execute_result"
    }
   ],
   "source": [
    "TN_income_short.income_bucket.unique()"
   ]
  },
  {
   "cell_type": "code",
   "execution_count": 41,
   "metadata": {},
   "outputs": [],
   "source": [
    "#Total is anything with Tennessee in the county column\n",
    "#1 = 'Under $1'\n",
    "# and going up from there\n",
    "#use syntax dict({1: 'Geeks', 2: 'For', 3:'Geeks'}) \n",
    "#need to change the 'income_bucket' column in cases where TN is the county\n",
    "#then I can use the dictionary\n",
    "#Maybe I can split the df in two, make a dictionary and change the first 8 rows to Total, change the rest according to the dict, and then paste together"
   ]
  },
  {
   "cell_type": "code",
   "execution_count": 61,
   "metadata": {},
   "outputs": [],
   "source": [
    "TN_income_sc = TN_income_short.copy()"
   ]
  },
  {
   "cell_type": "markdown",
   "metadata": {},
   "source": [
    "Create `income_dict`, a dictionary that uses the numerical codes in the income bucket column as keys and the matching descriptions"
   ]
  },
  {
   "cell_type": "code",
   "execution_count": 159,
   "metadata": {},
   "outputs": [],
   "source": [
    "income_dict = dict([(1, 'Under $1'), \n",
    "                    (2,'Between 1 and $10,000'), \n",
    "                    (3,'Between 10,000 and $25,000'),\n",
    "                    (4,'Between 25,000 and $50,000'), \n",
    "                    (5,'Between 50,000 and $75,000'), \n",
    "                    (6,'Between 75,000 and $100,000'), \n",
    "                    (7,'Between 100,000 and $200,000'), \n",
    "                    (8,'$200,000 or more')])"
   ]
  },
  {
   "cell_type": "markdown",
   "metadata": {},
   "source": [
    "Pass the dictionary as an argument to the pandas `replace()` method to change the `income_bucket` column so that it uses descriptive text instead of the numeric code."
   ]
  },
  {
   "cell_type": "code",
   "execution_count": 163,
   "metadata": {},
   "outputs": [],
   "source": [
    "TN_income_sc = TN_income_sc.replace({\"income_bucket\": income_dict})"
   ]
  },
  {
   "cell_type": "code",
   "execution_count": 164,
   "metadata": {},
   "outputs": [
    {
     "data": {
      "text/html": [
       "<div>\n",
       "<style scoped>\n",
       "    .dataframe tbody tr th:only-of-type {\n",
       "        vertical-align: middle;\n",
       "    }\n",
       "\n",
       "    .dataframe tbody tr th {\n",
       "        vertical-align: top;\n",
       "    }\n",
       "\n",
       "    .dataframe thead th {\n",
       "        text-align: right;\n",
       "    }\n",
       "</style>\n",
       "<table border=\"1\" class=\"dataframe\">\n",
       "  <thead>\n",
       "    <tr style=\"text-align: right;\">\n",
       "      <th></th>\n",
       "      <th>state</th>\n",
       "      <th>county</th>\n",
       "      <th>income_bucket</th>\n",
       "      <th>return_count</th>\n",
       "      <th>single_returns</th>\n",
       "      <th>joint_returns</th>\n",
       "      <th>head_of_house_returns</th>\n",
       "      <th>exemptions</th>\n",
       "      <th>dependents</th>\n",
       "      <th>elderly</th>\n",
       "      <th>agi</th>\n",
       "      <th>returns_with_total_inc</th>\n",
       "      <th>total_inc_amt</th>\n",
       "      <th>returns_with_unemployment</th>\n",
       "      <th>unemployment_comp</th>\n",
       "    </tr>\n",
       "  </thead>\n",
       "  <tbody>\n",
       "    <tr>\n",
       "      <th>19752</th>\n",
       "      <td>TN</td>\n",
       "      <td>Tennessee</td>\n",
       "      <td>Under $1</td>\n",
       "      <td>39580</td>\n",
       "      <td>22400</td>\n",
       "      <td>14440</td>\n",
       "      <td>980</td>\n",
       "      <td>60360</td>\n",
       "      <td>8230</td>\n",
       "      <td>19090</td>\n",
       "      <td>-2747555</td>\n",
       "      <td>29090</td>\n",
       "      <td>-2710342</td>\n",
       "      <td>90</td>\n",
       "      <td>348</td>\n",
       "    </tr>\n",
       "    <tr>\n",
       "      <th>19753</th>\n",
       "      <td>TN</td>\n",
       "      <td>Tennessee</td>\n",
       "      <td>Between 1 and $10,000</td>\n",
       "      <td>439770</td>\n",
       "      <td>345410</td>\n",
       "      <td>39920</td>\n",
       "      <td>49300</td>\n",
       "      <td>443540</td>\n",
       "      <td>108380</td>\n",
       "      <td>74190</td>\n",
       "      <td>2366417</td>\n",
       "      <td>439780</td>\n",
       "      <td>2441687</td>\n",
       "      <td>4830</td>\n",
       "      <td>12132</td>\n",
       "    </tr>\n",
       "    <tr>\n",
       "      <th>19754</th>\n",
       "      <td>TN</td>\n",
       "      <td>Tennessee</td>\n",
       "      <td>Between 10,000 and $25,000</td>\n",
       "      <td>717430</td>\n",
       "      <td>398720</td>\n",
       "      <td>115040</td>\n",
       "      <td>189290</td>\n",
       "      <td>1269420</td>\n",
       "      <td>472350</td>\n",
       "      <td>141070</td>\n",
       "      <td>12289681</td>\n",
       "      <td>717430</td>\n",
       "      <td>12486175</td>\n",
       "      <td>19660</td>\n",
       "      <td>58771</td>\n",
       "    </tr>\n",
       "    <tr>\n",
       "      <th>19755</th>\n",
       "      <td>TN</td>\n",
       "      <td>Tennessee</td>\n",
       "      <td>Between 25,000 and $50,000</td>\n",
       "      <td>759340</td>\n",
       "      <td>355970</td>\n",
       "      <td>217710</td>\n",
       "      <td>159890</td>\n",
       "      <td>1486710</td>\n",
       "      <td>512170</td>\n",
       "      <td>154020</td>\n",
       "      <td>27370414</td>\n",
       "      <td>759340</td>\n",
       "      <td>27694026</td>\n",
       "      <td>19120</td>\n",
       "      <td>57012</td>\n",
       "    </tr>\n",
       "    <tr>\n",
       "      <th>19756</th>\n",
       "      <td>TN</td>\n",
       "      <td>Tennessee</td>\n",
       "      <td>Between 50,000 and $75,000</td>\n",
       "      <td>396810</td>\n",
       "      <td>128390</td>\n",
       "      <td>215890</td>\n",
       "      <td>42240</td>\n",
       "      <td>881020</td>\n",
       "      <td>268500</td>\n",
       "      <td>106740</td>\n",
       "      <td>24350682</td>\n",
       "      <td>396810</td>\n",
       "      <td>24651803</td>\n",
       "      <td>10630</td>\n",
       "      <td>33894</td>\n",
       "    </tr>\n",
       "  </tbody>\n",
       "</table>\n",
       "</div>"
      ],
      "text/plain": [
       "      state     county               income_bucket  return_count  \\\n",
       "19752    TN  Tennessee                    Under $1         39580   \n",
       "19753    TN  Tennessee       Between 1 and $10,000        439770   \n",
       "19754    TN  Tennessee  Between 10,000 and $25,000        717430   \n",
       "19755    TN  Tennessee  Between 25,000 and $50,000        759340   \n",
       "19756    TN  Tennessee  Between 50,000 and $75,000        396810   \n",
       "\n",
       "       single_returns  joint_returns  head_of_house_returns  exemptions  \\\n",
       "19752           22400          14440                    980       60360   \n",
       "19753          345410          39920                  49300      443540   \n",
       "19754          398720         115040                 189290     1269420   \n",
       "19755          355970         217710                 159890     1486710   \n",
       "19756          128390         215890                  42240      881020   \n",
       "\n",
       "       dependents  elderly       agi  returns_with_total_inc  total_inc_amt  \\\n",
       "19752        8230    19090  -2747555                   29090       -2710342   \n",
       "19753      108380    74190   2366417                  439780        2441687   \n",
       "19754      472350   141070  12289681                  717430       12486175   \n",
       "19755      512170   154020  27370414                  759340       27694026   \n",
       "19756      268500   106740  24350682                  396810       24651803   \n",
       "\n",
       "       returns_with_unemployment  unemployment_comp  \n",
       "19752                         90                348  \n",
       "19753                       4830              12132  \n",
       "19754                      19660              58771  \n",
       "19755                      19120              57012  \n",
       "19756                      10630              33894  "
      ]
     },
     "execution_count": 164,
     "metadata": {},
     "output_type": "execute_result"
    }
   ],
   "source": [
    "TN_income_sc.head()"
   ]
  },
  {
   "cell_type": "markdown",
   "metadata": {},
   "source": [
    "Use the pandas `groupby()` method to group the data by county and get the `sum()` of all numeric columns for that county. Be sure to also `reset_index()` so that our aggregated data is re-indexed to begin at 0. Save this as a DataFrame called `income_county_agg`, and look at the first few rows."
   ]
  },
  {
   "cell_type": "code",
   "execution_count": 167,
   "metadata": {},
   "outputs": [],
   "source": [
    "income_county_agg = TN_income_sc.groupby(['county']).sum().reset_index()"
   ]
  },
  {
   "cell_type": "code",
   "execution_count": 169,
   "metadata": {},
   "outputs": [
    {
     "data": {
      "text/html": [
       "<div>\n",
       "<style scoped>\n",
       "    .dataframe tbody tr th:only-of-type {\n",
       "        vertical-align: middle;\n",
       "    }\n",
       "\n",
       "    .dataframe tbody tr th {\n",
       "        vertical-align: top;\n",
       "    }\n",
       "\n",
       "    .dataframe thead th {\n",
       "        text-align: right;\n",
       "    }\n",
       "</style>\n",
       "<table border=\"1\" class=\"dataframe\">\n",
       "  <thead>\n",
       "    <tr style=\"text-align: right;\">\n",
       "      <th></th>\n",
       "      <th>county</th>\n",
       "      <th>return_count</th>\n",
       "      <th>single_returns</th>\n",
       "      <th>joint_returns</th>\n",
       "      <th>head_of_house_returns</th>\n",
       "      <th>exemptions</th>\n",
       "      <th>dependents</th>\n",
       "      <th>elderly</th>\n",
       "      <th>agi</th>\n",
       "      <th>returns_with_total_inc</th>\n",
       "      <th>total_inc_amt</th>\n",
       "      <th>returns_with_unemployment</th>\n",
       "      <th>unemployment_comp</th>\n",
       "    </tr>\n",
       "  </thead>\n",
       "  <tbody>\n",
       "    <tr>\n",
       "      <th>0</th>\n",
       "      <td>Anderson County</td>\n",
       "      <td>34290</td>\n",
       "      <td>14990</td>\n",
       "      <td>14030</td>\n",
       "      <td>4550</td>\n",
       "      <td>65950</td>\n",
       "      <td>19620</td>\n",
       "      <td>9670</td>\n",
       "      <td>1807309</td>\n",
       "      <td>34140</td>\n",
       "      <td>1830482</td>\n",
       "      <td>700</td>\n",
       "      <td>2452</td>\n",
       "    </tr>\n",
       "    <tr>\n",
       "      <th>1</th>\n",
       "      <td>Bedford County</td>\n",
       "      <td>20920</td>\n",
       "      <td>8600</td>\n",
       "      <td>8010</td>\n",
       "      <td>3910</td>\n",
       "      <td>43550</td>\n",
       "      <td>15790</td>\n",
       "      <td>4430</td>\n",
       "      <td>971152</td>\n",
       "      <td>20840</td>\n",
       "      <td>985909</td>\n",
       "      <td>410</td>\n",
       "      <td>1023</td>\n",
       "    </tr>\n",
       "    <tr>\n",
       "      <th>2</th>\n",
       "      <td>Benton County</td>\n",
       "      <td>6610</td>\n",
       "      <td>2660</td>\n",
       "      <td>2840</td>\n",
       "      <td>1000</td>\n",
       "      <td>13020</td>\n",
       "      <td>3890</td>\n",
       "      <td>2000</td>\n",
       "      <td>269227</td>\n",
       "      <td>6580</td>\n",
       "      <td>272971</td>\n",
       "      <td>360</td>\n",
       "      <td>1119</td>\n",
       "    </tr>\n",
       "    <tr>\n",
       "      <th>3</th>\n",
       "      <td>Bledsoe County</td>\n",
       "      <td>4560</td>\n",
       "      <td>1620</td>\n",
       "      <td>2220</td>\n",
       "      <td>610</td>\n",
       "      <td>9690</td>\n",
       "      <td>3100</td>\n",
       "      <td>1200</td>\n",
       "      <td>178860</td>\n",
       "      <td>4540</td>\n",
       "      <td>181231</td>\n",
       "      <td>160</td>\n",
       "      <td>458</td>\n",
       "    </tr>\n",
       "    <tr>\n",
       "      <th>4</th>\n",
       "      <td>Blount County</td>\n",
       "      <td>59550</td>\n",
       "      <td>25090</td>\n",
       "      <td>26650</td>\n",
       "      <td>6550</td>\n",
       "      <td>115820</td>\n",
       "      <td>33400</td>\n",
       "      <td>16880</td>\n",
       "      <td>3333654</td>\n",
       "      <td>59350</td>\n",
       "      <td>3381616</td>\n",
       "      <td>1190</td>\n",
       "      <td>3551</td>\n",
       "    </tr>\n",
       "  </tbody>\n",
       "</table>\n",
       "</div>"
      ],
      "text/plain": [
       "            county  return_count  single_returns  joint_returns  \\\n",
       "0  Anderson County         34290           14990          14030   \n",
       "1   Bedford County         20920            8600           8010   \n",
       "2    Benton County          6610            2660           2840   \n",
       "3   Bledsoe County          4560            1620           2220   \n",
       "4    Blount County         59550           25090          26650   \n",
       "\n",
       "   head_of_house_returns  exemptions  dependents  elderly      agi  \\\n",
       "0                   4550       65950       19620     9670  1807309   \n",
       "1                   3910       43550       15790     4430   971152   \n",
       "2                   1000       13020        3890     2000   269227   \n",
       "3                    610        9690        3100     1200   178860   \n",
       "4                   6550      115820       33400    16880  3333654   \n",
       "\n",
       "   returns_with_total_inc  total_inc_amt  returns_with_unemployment  \\\n",
       "0                   34140        1830482                        700   \n",
       "1                   20840         985909                        410   \n",
       "2                    6580         272971                        360   \n",
       "3                    4540         181231                        160   \n",
       "4                   59350        3381616                       1190   \n",
       "\n",
       "   unemployment_comp  \n",
       "0               2452  \n",
       "1               1023  \n",
       "2               1119  \n",
       "3                458  \n",
       "4               3551  "
      ]
     },
     "execution_count": 169,
     "metadata": {},
     "output_type": "execute_result"
    }
   ],
   "source": [
    "income_county_agg.head()"
   ]
  },
  {
   "cell_type": "code",
   "execution_count": null,
   "metadata": {},
   "outputs": [],
   "source": []
  }
 ],
 "metadata": {
  "anaconda-cloud": {},
  "kernelspec": {
   "display_name": "Python [conda root]",
   "language": "python",
   "name": "conda-root-py"
  },
  "language_info": {
   "codemirror_mode": {
    "name": "ipython",
    "version": 3
   },
   "file_extension": ".py",
   "mimetype": "text/x-python",
   "name": "python",
   "nbconvert_exporter": "python",
   "pygments_lexer": "ipython3",
   "version": "3.5.2"
  }
 },
 "nbformat": 4,
 "nbformat_minor": 4
}
